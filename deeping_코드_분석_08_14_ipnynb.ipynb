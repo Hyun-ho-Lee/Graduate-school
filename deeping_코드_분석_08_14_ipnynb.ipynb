{
  "nbformat": 4,
  "nbformat_minor": 0,
  "metadata": {
    "colab": {
      "name": "deeping  코드 분석  08  14.ipnynb",
      "provenance": [],
      "collapsed_sections": [],
      "include_colab_link": true
    },
    "kernelspec": {
      "name": "python3",
      "display_name": "Python 3"
    },
    "language_info": {
      "name": "python"
    }
  },
  "cells": [
    {
      "cell_type": "markdown",
      "metadata": {
        "id": "view-in-github",
        "colab_type": "text"
      },
      "source": [
        "<a href=\"https://colab.research.google.com/github/Hyun-ho-Lee/Graduate-school/blob/main/deeping_%EC%BD%94%EB%93%9C_%EB%B6%84%EC%84%9D_08_14_ipnynb.ipynb\" target=\"_parent\"><img src=\"https://colab.research.google.com/assets/colab-badge.svg\" alt=\"Open In Colab\"/></a>"
      ]
    },
    {
      "cell_type": "code",
      "metadata": {
        "colab": {
          "base_uri": "https://localhost:8080/"
        },
        "id": "jgmcNVw-jqjZ",
        "outputId": "9d4ee6b5-07e4-4400-fe66-3aa50c36d35c"
      },
      "source": [
        "import os\n",
        "import pandas as pd\n",
        "import numpy as np\n",
        "import random\n",
        "from tqdm import tqdm\n",
        "import datetime\n",
        "import pandas_datareader as pdr\n",
        "import matplotlib.pyplot as plt\n",
        "import statsmodels.api as sm\n",
        "\n",
        "### Date and Author: 20201223, Kyungwon Kim ###\n",
        "\n",
        "target_KRX = ['삼성전자', 'SK하이닉스', '셀트리온', '삼성SDI', '현대자동차', '기아자동차', '포스코']\n",
        "#df = get_data_from_Yahoo(target_KRX)\n",
        "#def get_data_from_Yahoo(name_list, start='2013-12-01', end='2018-12-31', same_length=False):\n",
        " \n",
        "\n",
        "name_list=target_KRX\n",
        "start='2015-12-01'\n",
        "end='2020-12-31'\n",
        "start = pd.to_datetime(start)\n",
        "end = pd.to_datetime(end)\n",
        "same_length=False\n",
        "#@title\n",
        "## 야후에서 KOSPI 지수 KODAQ 지수 크롤링해와서 KOSPI 주식 이름 가져오는 과정 \n",
        "df_code_kospi = pd.read_html('http://kind.krx.co.kr/corpgeneral/corpList.do?method=download&marketType=stockMkt', header=0)[0][['회사명', '종목코드']]\n",
        "df_code_kospi.rename(columns={'회사명': 'Name', '종목코드': 'Code'}, inplace=True)\n",
        "df_code_kospi.Code = df_code_kospi.Code.map('{:06d}.KS'.format)\n",
        "df_code_kosdaq = pd.read_html('http://kind.krx.co.kr/corpgeneral/corpList.do?method=download&marketType=kosdaqMkt', header=0)[0][['회사명', '종목코드']]\n",
        "df_code_kosdaq.rename(columns={'회사명': 'Name', '종목코드': 'Code'}, inplace=True)\n",
        "df_code_kosdaq.Code = df_code_kosdaq.Code.map('{:06d}.KQ'.format)\n",
        "df_code = pd.concat([df_code_kospi, df_code_kosdaq], axis=0).reset_index().iloc[:,1:]\n",
        "code_KRX = list(df_code['Name'].values)\n",
        "\n",
        "# code extraction name list 에 맞춰 kospi 종목 코드를 code_list에 저장하는 과정\n",
        "code_list = []\n",
        "for name in tqdm(name_list):\n",
        "   if name in code_KRX:\n",
        "         code = df_code.query(\"Name=='{}'\".format(name))['Code'].to_string(index=False).strip()\n",
        "         code_list.append(code)   \n",
        "\n",
        "# data extraction nmae  code_list에 있는 kospi 종목들 종가를 dict_final 이라는 dictionary 에 저장하는 과정 key: value 값 형태 \n",
        "dict_final = dict()\n",
        "for i, name in enumerate(tqdm(code_list)):\n",
        "    df_name = pdr.data.DataReader(name, 'yahoo', start, end)[['Close']]\n",
        "    df_name = df_name.dropna()\n",
        "    df_name.columns = [name]\n",
        "    dict_final[name_list[i]] = df_name\n",
        "\n",
        "    # data filtering with same length\n",
        "#인덱스에 date (일별) 그리고 변수 이름이 주식 코드이며 종가로 데이터 프레임화 시키는 과정인거 같지만 same_length가 무엇인지 모르겠음 \n",
        "\n",
        "#또한 timedelta 라는게 2018-12-31 - 2013-12-01 인데 그 값이 1800이상이며 dict_final[key].shape[0]보다 크므로 if 문 자체가 안돌아감 \n",
        "\n",
        "#여기서 dict_final[key].shape[0]은 dict row 갯수임 \n",
        "\n",
        "timedelta = (pd.to_datetime(end)-pd.to_datetime(start)).days + 1\n",
        "df_samelength = pd.DataFrame()\n",
        "target_list = []\n",
        "if same_length:\n",
        "    for key, val in dict_final.items():\n",
        "        if dict_final[key].shape[0] >= timedelta:\n",
        "          target_list.append(key)\n",
        "          df_samelength = pd.concat([df_samelength, dict_final[key].iloc[-timedelta:].reset_index().iloc[:,1:]], axis=1) #pd.concat의 경우 axis=1 으로 지정이므로 왼쪽+ 오른쪽으로 합치는 과정 \n",
        "    df_samelength.index = pd.date_range(start, periods=timedelta) #periods time delta 때문에 오류뜸 \n",
        "\n",
        "\n"
      ],
      "execution_count": null,
      "outputs": [
        {
          "output_type": "stream",
          "text": [
            "100%|██████████| 7/7 [00:00<00:00, 247.55it/s]\n",
            "100%|██████████| 6/6 [00:03<00:00,  1.89it/s]\n"
          ],
          "name": "stderr"
        }
      ]
    },
    {
      "cell_type": "code",
      "metadata": {
        "colab": {
          "base_uri": "https://localhost:8080/"
        },
        "id": "iDQTh7jwTz2c",
        "outputId": "cd3c6c3b-750b-4a15-91c3-aac43caa41c3"
      },
      "source": [
        "timedelta\n"
      ],
      "execution_count": null,
      "outputs": [
        {
          "output_type": "execute_result",
          "data": {
            "text/plain": [
              "1858"
            ]
          },
          "metadata": {
            "tags": []
          },
          "execution_count": 29
        }
      ]
    },
    {
      "cell_type": "code",
      "metadata": {
        "id": "c10ufhaanEOC"
      },
      "source": [
        "#@title\n",
        "## 야후에서 KOSPI 지수 KODAQ 지수 크롤링해와서 KOSPI 주식 이름 가져오는 과정 \n",
        "df_code_kospi = pd.read_html('http://kind.krx.co.kr/corpgeneral/corpList.do?method=download&marketType=stockMkt', header=0)[0][['회사명', '종목코드']]\n",
        "df_code_kospi.rename(columns={'회사명': 'Name', '종목코드': 'Code'}, inplace=True)\n",
        "df_code_kospi.Code = df_code_kospi.Code.map('{:06d}.KS'.format)\n",
        "df_code_kosdaq = pd.read_html('http://kind.krx.co.kr/corpgeneral/corpList.do?method=download&marketType=kosdaqMkt', header=0)[0][['회사명', '종목코드']]\n",
        "df_code_kosdaq.rename(columns={'회사명': 'Name', '종목코드': 'Code'}, inplace=True)\n",
        "df_code_kosdaq.Code = df_code_kosdaq.Code.map('{:06d}.KQ'.format)\n",
        "df_code = pd.concat([df_code_kospi, df_code_kosdaq], axis=0).reset_index().iloc[:,1:]\n",
        "code_KRX = list(df_code['Name'].values)"
      ],
      "execution_count": null,
      "outputs": []
    },
    {
      "cell_type": "code",
      "metadata": {
        "colab": {
          "base_uri": "https://localhost:8080/",
          "height": 172
        },
        "id": "p99KlPTxRHp9",
        "outputId": "595a6232-5b7c-4e12-eebd-15bfba0f3756"
      },
      "source": [
        "df_code"
      ],
      "execution_count": null,
      "outputs": [
        {
          "output_type": "error",
          "ename": "NameError",
          "evalue": "ignored",
          "traceback": [
            "\u001b[0;31m---------------------------------------------------------------------------\u001b[0m",
            "\u001b[0;31mNameError\u001b[0m                                 Traceback (most recent call last)",
            "\u001b[0;32m<ipython-input-14-cfbe81e6f13d>\u001b[0m in \u001b[0;36m<module>\u001b[0;34m()\u001b[0m\n\u001b[0;32m----> 1\u001b[0;31m \u001b[0mdf_code\u001b[0m\u001b[0;34m\u001b[0m\u001b[0;34m\u001b[0m\u001b[0m\n\u001b[0m",
            "\u001b[0;31mNameError\u001b[0m: name 'df_code' is not defined"
          ]
        }
      ]
    },
    {
      "cell_type": "code",
      "metadata": {
        "colab": {
          "base_uri": "https://localhost:8080/"
        },
        "id": "1xdkQZtVnGu5",
        "outputId": "fb62f2a2-837b-4d97-9d3c-d3832da96fc9"
      },
      "source": [
        "# code extraction name list 에 맞춰 kospi 종목 코드를 code_list에 저장하는 과정\n",
        "code_list = []\n",
        "for name in tqdm(name_list):\n",
        "   if name in code_KRX:\n",
        "         code = df_code.query(\"Name=='{}'\".format(name))['Code'].to_string(index=False).strip()\n",
        "         code_list.append(code)   "
      ],
      "execution_count": null,
      "outputs": [
        {
          "output_type": "stream",
          "text": [
            "100%|██████████| 8/8 [00:00<00:00, 214.75it/s]\n"
          ],
          "name": "stderr"
        }
      ]
    },
    {
      "cell_type": "code",
      "metadata": {
        "colab": {
          "base_uri": "https://localhost:8080/"
        },
        "id": "KuQr4UD1n5PW",
        "outputId": "42b8d9b5-1372-45ad-e85a-579b8d0553d5"
      },
      "source": [
        "code_list"
      ],
      "execution_count": null,
      "outputs": [
        {
          "output_type": "execute_result",
          "data": {
            "text/plain": [
              "['005930.KS',\n",
              " '000660.KS',\n",
              " '068270.KS',\n",
              " '006400.KS',\n",
              " '005380.KS',\n",
              " '005490.KS',\n",
              " '015760.KS']"
            ]
          },
          "metadata": {
            "tags": []
          },
          "execution_count": 57
        }
      ]
    },
    {
      "cell_type": "code",
      "metadata": {
        "id": "uQFl87GjnMyx"
      },
      "source": [
        "# data extraction nmae  code_list에 있는 kospi 종목들 종가를 dict_final 이라는 dictionary 에 저장하는 과정 key: value 값 형태 \n",
        "dict_final = dict()\n",
        "for i, name in enumerate(tqdm(code_list)):\n",
        "    df_name = pdr.data.DataReader(name, 'yahoo', start, end)[['Close']]\n",
        "    df_name = df_name.dropna()\n",
        "    df_name.columns = [name]\n",
        "    dict_final[name_list[i]] = df_name\n",
        "    print(dict_final)"
      ],
      "execution_count": null,
      "outputs": []
    },
    {
      "cell_type": "code",
      "metadata": {
        "id": "gibOWzb-pXDw"
      },
      "source": [
        "dict_final"
      ],
      "execution_count": null,
      "outputs": []
    },
    {
      "cell_type": "code",
      "metadata": {
        "colab": {
          "base_uri": "https://localhost:8080/",
          "height": 136
        },
        "id": "aPOojMlqi_ey",
        "outputId": "c44242b7-45ce-4b13-b085-e74e6a5b477d"
      },
      "source": [
        "# data filtering with same length\n",
        "#인덱스에 date (일별) 그리고 변수 이름이 주식 코드이며 종가로 데이터 프레임화 시키는 과정인거 같지만 same_length가 무엇인지 모르겠음 \n",
        "\n",
        "#또한 timedelta 라는게 2018-12-31 - 2013-12-01 인데 그 값이 1800이상이며 dict_final[key].shape[0]보다 크므로 if 문 자체가 안돌아감 \n",
        "\n",
        "#여기서 dict_final[key].shape[0]은 dict row 갯수임 \n",
        "\n",
        "timedelta = (pd.to_datetime(end)-pd.to_datetime(start)).days + 1\n",
        "df_samelength = pd.DataFrame()\n",
        "target_list = []\n",
        "if same_length:\n",
        "    for key, val in dict_final.items():\n",
        "        if dict_final[key].shape[0] >= timedelta:\n",
        "          target_list.append(key)\n",
        "          df_samelength = pd.concat([df_samelength, dict_final[key].iloc[-timedelta:].reset_index().iloc[:,1:]], axis=1) #pd.concat의 경우 axis=1 으로 지정이므로 왼쪽+ 오른쪽으로 합치는 과정 \n",
        "    df_samelength.index = pd.date_range(start, periods=timedelta) #periods time delta 때문에 오류뜸 \n",
        "\n",
        "return dict_final, df_samelength, target_list"
      ],
      "execution_count": null,
      "outputs": [
        {
          "output_type": "error",
          "ename": "SyntaxError",
          "evalue": "ignored",
          "traceback": [
            "\u001b[0;36m  File \u001b[0;32m\"<ipython-input-125-29437b8bbc59>\"\u001b[0;36m, line \u001b[0;32m12\u001b[0m\n\u001b[0;31m    return dict_final, df_samelength, target_list\u001b[0m\n\u001b[0m                                                 ^\u001b[0m\n\u001b[0;31mSyntaxError\u001b[0m\u001b[0;31m:\u001b[0m 'return' outside function\n"
          ]
        }
      ]
    },
    {
      "cell_type": "code",
      "metadata": {
        "colab": {
          "base_uri": "https://localhost:8080/",
          "height": 419
        },
        "id": "O6lTiMjB9364",
        "outputId": "84d207eb-1e6c-436f-85bf-1e623b31d025"
      },
      "source": [
        "df_samelength = pd.concat([df_samelength, dict_final[key].iloc[-timedelta:].reset_index().iloc[:,1:]], axis=1)\n",
        "df_samelength"
      ],
      "execution_count": null,
      "outputs": [
        {
          "output_type": "execute_result",
          "data": {
            "text/html": [
              "<div>\n",
              "<style scoped>\n",
              "    .dataframe tbody tr th:only-of-type {\n",
              "        vertical-align: middle;\n",
              "    }\n",
              "\n",
              "    .dataframe tbody tr th {\n",
              "        vertical-align: top;\n",
              "    }\n",
              "\n",
              "    .dataframe thead th {\n",
              "        text-align: right;\n",
              "    }\n",
              "</style>\n",
              "<table border=\"1\" class=\"dataframe\">\n",
              "  <thead>\n",
              "    <tr style=\"text-align: right;\">\n",
              "      <th></th>\n",
              "      <th>015760.KS</th>\n",
              "      <th>015760.KS</th>\n",
              "    </tr>\n",
              "  </thead>\n",
              "  <tbody>\n",
              "    <tr>\n",
              "      <th>0</th>\n",
              "      <td>31950.0</td>\n",
              "      <td>31950.0</td>\n",
              "    </tr>\n",
              "    <tr>\n",
              "      <th>1</th>\n",
              "      <td>31750.0</td>\n",
              "      <td>31750.0</td>\n",
              "    </tr>\n",
              "    <tr>\n",
              "      <th>2</th>\n",
              "      <td>31650.0</td>\n",
              "      <td>31650.0</td>\n",
              "    </tr>\n",
              "    <tr>\n",
              "      <th>3</th>\n",
              "      <td>30900.0</td>\n",
              "      <td>30900.0</td>\n",
              "    </tr>\n",
              "    <tr>\n",
              "      <th>4</th>\n",
              "      <td>30700.0</td>\n",
              "      <td>30700.0</td>\n",
              "    </tr>\n",
              "    <tr>\n",
              "      <th>...</th>\n",
              "      <td>...</td>\n",
              "      <td>...</td>\n",
              "    </tr>\n",
              "    <tr>\n",
              "      <th>1236</th>\n",
              "      <td>33450.0</td>\n",
              "      <td>33450.0</td>\n",
              "    </tr>\n",
              "    <tr>\n",
              "      <th>1237</th>\n",
              "      <td>33100.0</td>\n",
              "      <td>33100.0</td>\n",
              "    </tr>\n",
              "    <tr>\n",
              "      <th>1238</th>\n",
              "      <td>32750.0</td>\n",
              "      <td>32750.0</td>\n",
              "    </tr>\n",
              "    <tr>\n",
              "      <th>1239</th>\n",
              "      <td>32500.0</td>\n",
              "      <td>32500.0</td>\n",
              "    </tr>\n",
              "    <tr>\n",
              "      <th>1240</th>\n",
              "      <td>33100.0</td>\n",
              "      <td>33100.0</td>\n",
              "    </tr>\n",
              "  </tbody>\n",
              "</table>\n",
              "<p>1241 rows × 2 columns</p>\n",
              "</div>"
            ],
            "text/plain": [
              "      015760.KS  015760.KS\n",
              "0       31950.0    31950.0\n",
              "1       31750.0    31750.0\n",
              "2       31650.0    31650.0\n",
              "3       30900.0    30900.0\n",
              "4       30700.0    30700.0\n",
              "...         ...        ...\n",
              "1236    33450.0    33450.0\n",
              "1237    33100.0    33100.0\n",
              "1238    32750.0    32750.0\n",
              "1239    32500.0    32500.0\n",
              "1240    33100.0    33100.0\n",
              "\n",
              "[1241 rows x 2 columns]"
            ]
          },
          "metadata": {
            "tags": []
          },
          "execution_count": 128
        }
      ]
    },
    {
      "cell_type": "code",
      "metadata": {
        "id": "2ZgBnxMvzpvc"
      },
      "source": [
        "target_list.append(list(dict_final.keys()))"
      ],
      "execution_count": null,
      "outputs": []
    },
    {
      "cell_type": "code",
      "metadata": {
        "colab": {
          "base_uri": "https://localhost:8080/"
        },
        "id": "hy9I1pT_0BfV",
        "outputId": "ea9bf8f7-52d1-4fc1-cd43-eebb56f34593"
      },
      "source": [
        "target_list"
      ],
      "execution_count": null,
      "outputs": [
        {
          "output_type": "execute_result",
          "data": {
            "text/plain": [
              "[['삼성전자', 'SK하이닉스', '셀트리온', '삼성SDI', '현대자동차', '기아자동차', '포스코']]"
            ]
          },
          "metadata": {
            "tags": []
          },
          "execution_count": 108
        }
      ]
    },
    {
      "cell_type": "code",
      "metadata": {
        "id": "NuKcoiWstCfP"
      },
      "source": [
        "import keras\n",
        "from keras.models import Sequential\n",
        "from keras.layers import Dense\n",
        "from keras import losses\n",
        "import tensorflow as tf"
      ],
      "execution_count": null,
      "outputs": []
    },
    {
      "cell_type": "code",
      "metadata": {
        "id": "QcF5bJi1ruT-"
      },
      "source": [
        "#딥러닝 돌리기 \n",
        "algorithms = ['MLP', 'RNN', 'GRNN', 'LSTM', 'GRU']"
      ],
      "execution_count": null,
      "outputs": []
    },
    {
      "cell_type": "code",
      "metadata": {
        "id": "7mue6D0L2uvy"
      },
      "source": [
        "#X_train 을 어떤걸로 지정해야할지 y_train을 어떤걸로 지정해야할지 감이 안잡힘 \n",
        "\n",
        "def algorithm_reg_deeplearning(algorithms, X_train, Y_train, X_test, Y_test, scaler,optimizer='adam', loss='mean_squared_error', metrics=['accuracy'],batch_size=64, epochs=10, verbose=0,plot_epoch=False):\n",
        "    RMSE_train, RMSE_test = algorithm_reg_deeplearning(algorithms, X_train, Y_train, X_test, Y_test,scaler,optimizer='adam', loss='mean_squared_error',batch_size=32, epochs=30, verbose=0,plot_epoch=False) "
      ],
      "execution_count": null,
      "outputs": []
    },
    {
      "cell_type": "code",
      "metadata": {
        "id": "C-Pn48w9rln4"
      },
      "source": [
        "RMSE_train, RMSE_test = algorithm_reg_deeplearning(algorithms, X_train, Y_train, X_test, Y_test,scaler,optimizer='adam', loss='mean_squared_error',batch_size=32, epochs=30, verbose=0,plot_epoch=False)"
      ],
      "execution_count": null,
      "outputs": []
    },
    {
      "cell_type": "code",
      "metadata": {
        "colab": {
          "base_uri": "https://localhost:8080/",
          "height": 136
        },
        "id": "WHxVXEhKuWYq",
        "outputId": "ac57b719-f756-4e8a-f604-48dc9f7fbf65"
      },
      "source": [
        "def algorithm_reg_deeplearning(algorithms, X_train, Y_train, X_test, Y_test, scaler,\n",
        "                               optimizer='adam', loss='mean_squared_error', metrics=['accuracy'],\n",
        "                               batch_size=64, epochs=10, verbose=0,\n",
        "                               plot_epoch=False):"
      ],
      "execution_count": null,
      "outputs": [
        {
          "output_type": "error",
          "ename": "SyntaxError",
          "evalue": "ignored",
          "traceback": [
            "\u001b[0;36m  File \u001b[0;32m\"<ipython-input-130-9040ace4227c>\"\u001b[0;36m, line \u001b[0;32m4\u001b[0m\n\u001b[0;31m    plot_epoch=False):\u001b[0m\n\u001b[0m                      ^\u001b[0m\n\u001b[0;31mSyntaxError\u001b[0m\u001b[0;31m:\u001b[0m unexpected EOF while parsing\n"
          ]
        }
      ]
    },
    {
      "cell_type": "code",
      "metadata": {
        "id": "r7pMWKtYhBf4"
      },
      "source": [
        "seed_num = 123\n",
        "np.random.seed(seed_num)\n",
        "random.seed(seed_num)\n",
        "tf.random.set_seed(seed_num)"
      ],
      "execution_count": null,
      "outputs": []
    },
    {
      "cell_type": "code",
      "metadata": {
        "colab": {
          "base_uri": "https://localhost:8080/",
          "height": 262
        },
        "id": "aFKggfs5jkT6",
        "outputId": "ff6cc623-c998-4343-f261-84cf682e8db1"
      },
      "source": [
        "RMSE_train, RMSE_test = [], []\n",
        "for alg in tqdm(algorithms):\n",
        "        if alg == 'MLP':\n",
        "            model = Sequential()\n",
        "            model.add(Dense(128, input_shape=(X_train.shape[1]*X_train.shape[2],), activation='relu'))\n",
        "            model.add(Dense(256, activation='relu'))\n",
        "            model.add(Dense(128, activation='relu'))\n",
        "            model.add(Dense(64, activation='relu'))\n",
        "            model.add(Dense(1))\n",
        "            model.compile(optimizer=optimizer, loss=loss)\n",
        "            early_stop = EarlyStopping(monitor='val_loss', mode='min', verbose=1, patience=5)\n",
        "            model_fit = model.fit(X_train.reshape(X_train.shape[0], -1), Y_train,\n",
        "                                  batch_size=batch_size, epochs=epochs,\n",
        "                                  validation_data=(X_test.reshape(X_test.shape[0], -1), Y_test),\n",
        "                                  callbacks=[early_stop],\n",
        "                                  verbose=verbose)\n",
        "        elif alg == 'RNN':\n",
        "            model = Sequential()\n",
        "            model.add(SimpleRNN(128, input_shape=(X_train.shape[1], X_train.shape[2]), return_sequences=True, activation='relu'))\n",
        "            model.add(SimpleRNN(256, return_sequences=True, activation=\"relu\"))\n",
        "            model.add(SimpleRNN(128, return_sequences=True, activation=\"relu\"))\n",
        "            model.add(SimpleRNN(64, return_sequences=True, activation=\"relu\"))\n",
        "            model.add(Flatten())\n",
        "            model.add(Dense(1))\n",
        "            model.compile(optimizer=optimizer, loss=loss)\n",
        "            early_stop = EarlyStopping(monitor='val_loss', mode='min', verbose=1, patience=5)\n",
        "            model_fit = model.fit(X_train, Y_train,\n",
        "                                  batch_size=batch_size, epochs=epochs,\n",
        "                                  validation_data=(X_test, Y_test),\n",
        "                                  callbacks=[early_stop],\n",
        "                                  verbose=verbose)\n",
        "        elif alg == 'GRNN':\n",
        "            params = {'kernel':[\"RBF\"],\n",
        "                      'sigma' : list(np.arange(0.01, 3, 0.01)),\n",
        "                      'calibration' : ['None']}\n",
        "            model = GridSearchCV(estimator=GRNN(), param_grid=params,\n",
        "                                 scoring='neg_mean_squared_error',\n",
        "                                 cv=10, verbose=verbose)  \n",
        "            model.fit(X_train.reshape(X_train.shape[0], -1), Y_train)\n",
        "        elif alg == 'LSTM':\n",
        "            model = Sequential()\n",
        "            model.add(LSTM(128, input_shape=(X_train.shape[1], X_train.shape[2]), return_sequences=True, activation='relu'))\n",
        "            model.add(LSTM(256, return_sequences=True, activation=\"relu\"))\n",
        "            model.add(LSTM(128, return_sequences=True, activation=\"relu\"))\n",
        "            model.add(LSTM(64, return_sequences=False, activation=\"relu\"))\n",
        "            model.add(Dense(1))\n",
        "            model.compile(optimizer=optimizer, loss=loss, metrics=metrics)\n",
        "            early_stop = EarlyStopping(monitor='val_loss', mode='min', verbose=1, patience=5)\n",
        "            model_fit = model.fit(X_train, Y_train,\n",
        "                                  batch_size=batch_size, epochs=epochs,\n",
        "                                  validation_data=(X_test, Y_test),\n",
        "                                  callbacks=[early_stop],\n",
        "                                  verbose=verbose)\n",
        "        elif alg == 'GRU':\n",
        "            model = Sequential()\n",
        "            model.add(GRU(128, input_shape=(X_train.shape[1], X_train.shape[2]), return_sequences=True, activation='relu'))\n",
        "            model.add(GRU(256, return_sequences=True, activation=\"relu\"))\n",
        "            model.add(GRU(128, return_sequences=True, activation=\"relu\"))\n",
        "            model.add(GRU(64, return_sequences=False, activation=\"relu\"))\n",
        "            model.add(Dense(1))\n",
        "            model.compile(optimizer=optimizer, loss=loss, metrics=metrics)\n",
        "            early_stop = EarlyStopping(monitor='val_loss', mode='min', verbose=1, patience=5)\n",
        "            model_fit = model.fit(X_train, Y_train,\n",
        "                                  batch_size=batch_size, epochs=epochs,\n",
        "                                  validation_data=(X_test, Y_test),\n",
        "                                  callbacks=[early_stop],\n",
        "                                  verbose=verbose)"
      ],
      "execution_count": null,
      "outputs": [
        {
          "output_type": "stream",
          "text": [
            "  0%|          | 0/5 [00:00<?, ?it/s]\n"
          ],
          "name": "stderr"
        },
        {
          "output_type": "error",
          "ename": "NameError",
          "evalue": "ignored",
          "traceback": [
            "\u001b[0;31m---------------------------------------------------------------------------\u001b[0m",
            "\u001b[0;31mNameError\u001b[0m                                 Traceback (most recent call last)",
            "\u001b[0;32m<ipython-input-129-92d710b65f6b>\u001b[0m in \u001b[0;36m<module>\u001b[0;34m()\u001b[0m\n\u001b[1;32m      3\u001b[0m         \u001b[0;32mif\u001b[0m \u001b[0malg\u001b[0m \u001b[0;34m==\u001b[0m \u001b[0;34m'MLP'\u001b[0m\u001b[0;34m:\u001b[0m\u001b[0;34m\u001b[0m\u001b[0;34m\u001b[0m\u001b[0m\n\u001b[1;32m      4\u001b[0m             \u001b[0mmodel\u001b[0m \u001b[0;34m=\u001b[0m \u001b[0mSequential\u001b[0m\u001b[0;34m(\u001b[0m\u001b[0;34m)\u001b[0m\u001b[0;34m\u001b[0m\u001b[0;34m\u001b[0m\u001b[0m\n\u001b[0;32m----> 5\u001b[0;31m             \u001b[0mmodel\u001b[0m\u001b[0;34m.\u001b[0m\u001b[0madd\u001b[0m\u001b[0;34m(\u001b[0m\u001b[0mDense\u001b[0m\u001b[0;34m(\u001b[0m\u001b[0;36m128\u001b[0m\u001b[0;34m,\u001b[0m \u001b[0minput_shape\u001b[0m\u001b[0;34m=\u001b[0m\u001b[0;34m(\u001b[0m\u001b[0mX_train\u001b[0m\u001b[0;34m.\u001b[0m\u001b[0mshape\u001b[0m\u001b[0;34m[\u001b[0m\u001b[0;36m1\u001b[0m\u001b[0;34m]\u001b[0m\u001b[0;34m*\u001b[0m\u001b[0mX_train\u001b[0m\u001b[0;34m.\u001b[0m\u001b[0mshape\u001b[0m\u001b[0;34m[\u001b[0m\u001b[0;36m2\u001b[0m\u001b[0;34m]\u001b[0m\u001b[0;34m,\u001b[0m\u001b[0;34m)\u001b[0m\u001b[0;34m,\u001b[0m \u001b[0mactivation\u001b[0m\u001b[0;34m=\u001b[0m\u001b[0;34m'relu'\u001b[0m\u001b[0;34m)\u001b[0m\u001b[0;34m)\u001b[0m\u001b[0;34m\u001b[0m\u001b[0;34m\u001b[0m\u001b[0m\n\u001b[0m\u001b[1;32m      6\u001b[0m             \u001b[0mmodel\u001b[0m\u001b[0;34m.\u001b[0m\u001b[0madd\u001b[0m\u001b[0;34m(\u001b[0m\u001b[0mDense\u001b[0m\u001b[0;34m(\u001b[0m\u001b[0;36m256\u001b[0m\u001b[0;34m,\u001b[0m \u001b[0mactivation\u001b[0m\u001b[0;34m=\u001b[0m\u001b[0;34m'relu'\u001b[0m\u001b[0;34m)\u001b[0m\u001b[0;34m)\u001b[0m\u001b[0;34m\u001b[0m\u001b[0;34m\u001b[0m\u001b[0m\n\u001b[1;32m      7\u001b[0m             \u001b[0mmodel\u001b[0m\u001b[0;34m.\u001b[0m\u001b[0madd\u001b[0m\u001b[0;34m(\u001b[0m\u001b[0mDense\u001b[0m\u001b[0;34m(\u001b[0m\u001b[0;36m128\u001b[0m\u001b[0;34m,\u001b[0m \u001b[0mactivation\u001b[0m\u001b[0;34m=\u001b[0m\u001b[0;34m'relu'\u001b[0m\u001b[0;34m)\u001b[0m\u001b[0;34m)\u001b[0m\u001b[0;34m\u001b[0m\u001b[0;34m\u001b[0m\u001b[0m\n",
            "\u001b[0;31mNameError\u001b[0m: name 'X_train' is not defined"
          ]
        }
      ]
    },
    {
      "cell_type": "code",
      "metadata": {
        "id": "ZfdAx1E7lAjT"
      },
      "source": [
        "# plot of model flow\n",
        "if plot_epoch:\n",
        "  if alg != 'GRNN':\n",
        "          model.summary()\n",
        "        fontsize = 20\n",
        "        plt.figsize=(16, 8)\n",
        "        plt.plot(pd.DataFrame(model_fit.history['loss']), label='Loss: Train')\n",
        "        plt.plot(pd.DataFrame(model_fit.history['val_loss']), label='Loss: Test')\n",
        "        plt.xticks(fontsize=fontsize, rotation=0)\n",
        "        plt.yticks(fontsize=fontsize)\n",
        "        plt.xlabel('Epoch', fontname='serif', fontsize=fontsize+2)\n",
        "        plt.legend(fontsize=fontsize-4, loc='best')\n",
        "        plt.grid(axis='y')\n",
        "        plt.show()"
      ],
      "execution_count": null,
      "outputs": []
    },
    {
      "cell_type": "code",
      "metadata": {
        "id": "byRbSTEHjtDn"
      },
      "source": [
        "#predict\n",
        "\n",
        "if (alg == 'MLP') | (alg == 'GRNN'):\n",
        "    Y_train_pred = model.predict(X_train.reshape(X_train.shape[0], -1))\n",
        "    Y_test_pred = model.predict(X_test.reshape(X_test.shape[0], -1))\n",
        "else:\n",
        "    Y_train_pred = model.predict(X_train)\n",
        "    Y_test_pred = model.predict(X_test)"
      ],
      "execution_count": null,
      "outputs": []
    },
    {
      "cell_type": "code",
      "metadata": {
        "id": "N-1xZNJnkAtM"
      },
      "source": [
        "#rescaling\n",
        "\n",
        "if scaler != []:\n",
        "  if alg == 'GRNN':\n",
        "    Y_train_orig = scaler.inverse_transform(Y_train.reshape(-1,1))\n",
        "    Y_train_pred = scaler.inverse_transform(Y_train_pred.reshape(-1,1))\n",
        "    Y_test_orig = scaler.inverse_transform(Y_test.reshape(-1,1))\n",
        "    Y_test_pred = scaler.inverse_transform(Y_test_pred.reshape(-1,1))\n",
        "  else:\n",
        "    Y_train_orig = scaler.inverse_transform(Y_train)\n",
        "    Y_train_pred = scaler.inverse_transform(Y_train_pred)\n",
        "    Y_test_orig = scaler.inverse_transform(Y_test)\n",
        "    Y_test_pred = scaler.inverse_transform(Y_test_pred)\n",
        "else:\n",
        "  Y_train_orig = Y_train.copy()\n",
        "  Y_test_orig = Y_test.copy()"
      ],
      "execution_count": null,
      "outputs": []
    },
    {
      "cell_type": "code",
      "metadata": {
        "id": "7lov9JkEkjxn"
      },
      "source": [
        "#evaluation\n",
        "\n",
        "RMSE_tr = mean_squared_error(Y_train_pred, Y_train_orig)**0.5\n",
        "RMSE_te = mean_squared_error(Y_test_pred, Y_test_orig)**0.5\n",
        "RMSE_train.append(RMSE_tr)\n",
        "RMSE_test.append(RMSE_te)"
      ],
      "execution_count": null,
      "outputs": []
    },
    {
      "cell_type": "code",
      "metadata": {
        "id": "IzI3nOJrkqOj"
      },
      "source": [
        "RMSE_train = pd.DataFrame(RMSE_train)\n",
        "RMSE_train.index = algorithms\n",
        "RMSE_train.columns = ['Train']\n",
        "RMSE_test = pd.DataFrame(RMSE_test)\n",
        "RMSE_test.index = algorithms\n",
        "RMSE_test.columns = ['Test']\n",
        "   \n",
        "return RMSE_train, RMSE_test"
      ],
      "execution_count": null,
      "outputs": []
    }
  ]
}