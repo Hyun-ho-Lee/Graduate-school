{
  "nbformat": 4,
  "nbformat_minor": 0,
  "metadata": {
    "colab": {
      "name": "Cosine similarity(코사인 유사도).ipynb",
      "provenance": [],
      "collapsed_sections": [],
      "authorship_tag": "ABX9TyOppbCs1+Uau/SkPg2qEnXw",
      "include_colab_link": true
    },
    "kernelspec": {
      "name": "python3",
      "display_name": "Python 3"
    },
    "language_info": {
      "name": "python"
    }
  },
  "cells": [
    {
      "cell_type": "markdown",
      "metadata": {
        "id": "view-in-github",
        "colab_type": "text"
      },
      "source": [
        "<a href=\"https://colab.research.google.com/github/Hyun-ho-Lee/Graduate-school/blob/main/Cosine_similarity(%EC%BD%94%EC%82%AC%EC%9D%B8_%EC%9C%A0%EC%82%AC%EB%8F%84).ipynb\" target=\"_parent\"><img src=\"https://colab.research.google.com/assets/colab-badge.svg\" alt=\"Open In Colab\"/></a>"
      ]
    },
    {
      "cell_type": "markdown",
      "metadata": {
        "id": "cBabniQ21gQZ"
      },
      "source": [
        "# 1.개요 \n",
        "\n",
        "추천시스템 어떠한 방법으로 작동하는지 호기심으로 부터 시작 \n",
        "\n",
        "코사인 유사도는 어느 경우에 사용 하는지에 대해 파이썬을 이용하여 정리"
      ]
    },
    {
      "cell_type": "code",
      "metadata": {
        "id": "WeO1Wilz1Vpc"
      },
      "source": [
        "import pandas  as pd \n",
        "import numpy as np"
      ],
      "execution_count": 4,
      "outputs": []
    },
    {
      "cell_type": "markdown",
      "metadata": {
        "id": "poxNd9El2Lah"
      },
      "source": [
        "# 2.데이터 준비\n",
        "\n",
        "블로그 예시 데이터 이용"
      ]
    },
    {
      "cell_type": "code",
      "metadata": {
        "id": "WWrpJigT1gHN"
      },
      "source": [
        "X = np.array([[6.6, 6.2, 1],\n",
        "              [9.7, 9.9, 2],\n",
        "              [8.0, 8.3, 2],\n",
        "              [6.3, 5.4, 1],\n",
        "              [1.3, 2.7, 0],\n",
        "              [2.3, 3.1, 0],\n",
        "              [6.6, 6.0, 1],\n",
        "              [6.5, 6.4, 1],\n",
        "              [6.3, 5.8, 1],\n",
        "              [9.5, 9.9, 2],\n",
        "              [8.9, 8.9, 2],\n",
        "              [8.7, 9.5, 2],\n",
        "              [2.5, 3.8, 0],\n",
        "              [2.0, 3.1, 0],\n",
        "              [1.3, 1.3, 0]])"
      ],
      "execution_count": 5,
      "outputs": []
    },
    {
      "cell_type": "code",
      "metadata": {
        "colab": {
          "base_uri": "https://localhost:8080/",
          "height": 518
        },
        "id": "HkSsfdJa2TgV",
        "outputId": "df313403-99bb-4b10-988e-10c4df2ba878"
      },
      "source": [
        "#위 코드에서 알수있는점 1.넘파이로 만든 배열을 df로 변환시킬수있으며 columns 지정이 가능함 \n",
        "\n",
        "df=pd.DataFrame(X,columns=['weight','length','label'])\n",
        "df"
      ],
      "execution_count": 8,
      "outputs": [
        {
          "output_type": "execute_result",
          "data": {
            "text/html": [
              "<div>\n",
              "<style scoped>\n",
              "    .dataframe tbody tr th:only-of-type {\n",
              "        vertical-align: middle;\n",
              "    }\n",
              "\n",
              "    .dataframe tbody tr th {\n",
              "        vertical-align: top;\n",
              "    }\n",
              "\n",
              "    .dataframe thead th {\n",
              "        text-align: right;\n",
              "    }\n",
              "</style>\n",
              "<table border=\"1\" class=\"dataframe\">\n",
              "  <thead>\n",
              "    <tr style=\"text-align: right;\">\n",
              "      <th></th>\n",
              "      <th>weight</th>\n",
              "      <th>length</th>\n",
              "      <th>label</th>\n",
              "    </tr>\n",
              "  </thead>\n",
              "  <tbody>\n",
              "    <tr>\n",
              "      <th>0</th>\n",
              "      <td>6.6</td>\n",
              "      <td>6.2</td>\n",
              "      <td>1.0</td>\n",
              "    </tr>\n",
              "    <tr>\n",
              "      <th>1</th>\n",
              "      <td>9.7</td>\n",
              "      <td>9.9</td>\n",
              "      <td>2.0</td>\n",
              "    </tr>\n",
              "    <tr>\n",
              "      <th>2</th>\n",
              "      <td>8.0</td>\n",
              "      <td>8.3</td>\n",
              "      <td>2.0</td>\n",
              "    </tr>\n",
              "    <tr>\n",
              "      <th>3</th>\n",
              "      <td>6.3</td>\n",
              "      <td>5.4</td>\n",
              "      <td>1.0</td>\n",
              "    </tr>\n",
              "    <tr>\n",
              "      <th>4</th>\n",
              "      <td>1.3</td>\n",
              "      <td>2.7</td>\n",
              "      <td>0.0</td>\n",
              "    </tr>\n",
              "    <tr>\n",
              "      <th>5</th>\n",
              "      <td>2.3</td>\n",
              "      <td>3.1</td>\n",
              "      <td>0.0</td>\n",
              "    </tr>\n",
              "    <tr>\n",
              "      <th>6</th>\n",
              "      <td>6.6</td>\n",
              "      <td>6.0</td>\n",
              "      <td>1.0</td>\n",
              "    </tr>\n",
              "    <tr>\n",
              "      <th>7</th>\n",
              "      <td>6.5</td>\n",
              "      <td>6.4</td>\n",
              "      <td>1.0</td>\n",
              "    </tr>\n",
              "    <tr>\n",
              "      <th>8</th>\n",
              "      <td>6.3</td>\n",
              "      <td>5.8</td>\n",
              "      <td>1.0</td>\n",
              "    </tr>\n",
              "    <tr>\n",
              "      <th>9</th>\n",
              "      <td>9.5</td>\n",
              "      <td>9.9</td>\n",
              "      <td>2.0</td>\n",
              "    </tr>\n",
              "    <tr>\n",
              "      <th>10</th>\n",
              "      <td>8.9</td>\n",
              "      <td>8.9</td>\n",
              "      <td>2.0</td>\n",
              "    </tr>\n",
              "    <tr>\n",
              "      <th>11</th>\n",
              "      <td>8.7</td>\n",
              "      <td>9.5</td>\n",
              "      <td>2.0</td>\n",
              "    </tr>\n",
              "    <tr>\n",
              "      <th>12</th>\n",
              "      <td>2.5</td>\n",
              "      <td>3.8</td>\n",
              "      <td>0.0</td>\n",
              "    </tr>\n",
              "    <tr>\n",
              "      <th>13</th>\n",
              "      <td>2.0</td>\n",
              "      <td>3.1</td>\n",
              "      <td>0.0</td>\n",
              "    </tr>\n",
              "    <tr>\n",
              "      <th>14</th>\n",
              "      <td>1.3</td>\n",
              "      <td>1.3</td>\n",
              "      <td>0.0</td>\n",
              "    </tr>\n",
              "  </tbody>\n",
              "</table>\n",
              "</div>"
            ],
            "text/plain": [
              "    weight  length  label\n",
              "0      6.6     6.2    1.0\n",
              "1      9.7     9.9    2.0\n",
              "2      8.0     8.3    2.0\n",
              "3      6.3     5.4    1.0\n",
              "4      1.3     2.7    0.0\n",
              "5      2.3     3.1    0.0\n",
              "6      6.6     6.0    1.0\n",
              "7      6.5     6.4    1.0\n",
              "8      6.3     5.8    1.0\n",
              "9      9.5     9.9    2.0\n",
              "10     8.9     8.9    2.0\n",
              "11     8.7     9.5    2.0\n",
              "12     2.5     3.8    0.0\n",
              "13     2.0     3.1    0.0\n",
              "14     1.3     1.3    0.0"
            ]
          },
          "metadata": {
            "tags": []
          },
          "execution_count": 8
        }
      ]
    },
    {
      "cell_type": "code",
      "metadata": {
        "colab": {
          "base_uri": "https://localhost:8080/"
        },
        "id": "uXQ9cWGL3M3R",
        "outputId": "be254459-c01c-4dcd-e702-5054d92bb872"
      },
      "source": [
        "#헷갈리는 point 1 아래 코드같이 df['label']==0 일경우 인덱스와 리스트 형식으로 반환시킴 즉 0인거로만 필터링이 안됌 \n",
        "ax =df['label'] == 0"
      ],
      "execution_count": 11,
      "outputs": [
        {
          "output_type": "execute_result",
          "data": {
            "text/plain": [
              "0     False\n",
              "1     False\n",
              "2     False\n",
              "3     False\n",
              "4      True\n",
              "5      True\n",
              "6     False\n",
              "7     False\n",
              "8     False\n",
              "9     False\n",
              "10    False\n",
              "11    False\n",
              "12     True\n",
              "13     True\n",
              "14     True\n",
              "Name: label, dtype: bool"
            ]
          },
          "metadata": {
            "tags": []
          },
          "execution_count": 11
        }
      ]
    },
    {
      "cell_type": "code",
      "metadata": {
        "colab": {
          "base_uri": "https://localhost:8080/",
          "height": 205
        },
        "id": "lbpgGwRr3l-n",
        "outputId": "59778bdf-7bfe-413e-927e-ab64ab6b60ca"
      },
      "source": [
        "#따라서 df형식으로 보기 위해서는 밖에 df로 한번더 감싸줘야함  위에서 4,5,12,13,14번이 True이므로 DF 내에서 True 만 리턴 \n",
        "\n",
        "ax =df[df['label'] == 0]"
      ],
      "execution_count": 13,
      "outputs": [
        {
          "output_type": "execute_result",
          "data": {
            "text/html": [
              "<div>\n",
              "<style scoped>\n",
              "    .dataframe tbody tr th:only-of-type {\n",
              "        vertical-align: middle;\n",
              "    }\n",
              "\n",
              "    .dataframe tbody tr th {\n",
              "        vertical-align: top;\n",
              "    }\n",
              "\n",
              "    .dataframe thead th {\n",
              "        text-align: right;\n",
              "    }\n",
              "</style>\n",
              "<table border=\"1\" class=\"dataframe\">\n",
              "  <thead>\n",
              "    <tr style=\"text-align: right;\">\n",
              "      <th></th>\n",
              "      <th>weight</th>\n",
              "      <th>length</th>\n",
              "      <th>label</th>\n",
              "    </tr>\n",
              "  </thead>\n",
              "  <tbody>\n",
              "    <tr>\n",
              "      <th>4</th>\n",
              "      <td>1.3</td>\n",
              "      <td>2.7</td>\n",
              "      <td>0.0</td>\n",
              "    </tr>\n",
              "    <tr>\n",
              "      <th>5</th>\n",
              "      <td>2.3</td>\n",
              "      <td>3.1</td>\n",
              "      <td>0.0</td>\n",
              "    </tr>\n",
              "    <tr>\n",
              "      <th>12</th>\n",
              "      <td>2.5</td>\n",
              "      <td>3.8</td>\n",
              "      <td>0.0</td>\n",
              "    </tr>\n",
              "    <tr>\n",
              "      <th>13</th>\n",
              "      <td>2.0</td>\n",
              "      <td>3.1</td>\n",
              "      <td>0.0</td>\n",
              "    </tr>\n",
              "    <tr>\n",
              "      <th>14</th>\n",
              "      <td>1.3</td>\n",
              "      <td>1.3</td>\n",
              "      <td>0.0</td>\n",
              "    </tr>\n",
              "  </tbody>\n",
              "</table>\n",
              "</div>"
            ],
            "text/plain": [
              "    weight  length  label\n",
              "4      1.3     2.7    0.0\n",
              "5      2.3     3.1    0.0\n",
              "12     2.5     3.8    0.0\n",
              "13     2.0     3.1    0.0\n",
              "14     1.3     1.3    0.0"
            ]
          },
          "metadata": {
            "tags": []
          },
          "execution_count": 13
        }
      ]
    },
    {
      "cell_type": "code",
      "metadata": {
        "colab": {
          "base_uri": "https://localhost:8080/",
          "height": 297
        },
        "id": "5xUsl2wH4iMu",
        "outputId": "628c9701-a36b-473a-bfb8-ed7e2a400391"
      },
      "source": [
        "ax =df[df['label'] == 0].plot.scatter(x='weight',y='length',c='blue',label='young')\n",
        "ax =df[df['label'] == 1].plot.scatter(x='weight',y='length',c='orange',label='mid',ax=ax)\n",
        "ax =df[df['label'] == 2].plot.scatter(x='weight',y='length',c='red',label='adult',ax=ax)\n",
        "ax"
      ],
      "execution_count": 14,
      "outputs": [
        {
          "output_type": "execute_result",
          "data": {
            "text/plain": [
              "<matplotlib.axes._subplots.AxesSubplot at 0x7f7ae4dac7d0>"
            ]
          },
          "metadata": {
            "tags": []
          },
          "execution_count": 14
        },
        {
          "output_type": "display_data",
          "data": {
            "image/png": "[encoded data removed]",
            "text/plain": [
              "<Figure size 432x288 with 1 Axes>"
            ]
          },
          "metadata": {
            "tags": [],
            "needs_background": "light"
          }
        }
      ]
    },
    {
      "cell_type": "markdown",
      "metadata": {
        "id": "DmYEmIj_4-JJ"
      },
      "source": [
        "위 데이터는 키와 몸무게에 따른 나이를 추측하는 가상의 데이터이며 세가지 클래스는\n",
        "weight 와 length 로 잘 구분이 된다 K-NN 이용시 어떤 거리 메트릭을 사용하는 것이 적절한지 봐보자."
      ]
    },
    {
      "cell_type": "markdown",
      "metadata": {
        "id": "zQLbKs2p6MF4"
      },
      "source": [
        "# 3.매트릭 선별  \n",
        "\n",
        "0,1,4번 인스턴스를 선별하여 14번 인스턴스에 어떤 레이블을 부여하는게 적절한지 확인"
      ]
    },
    {
      "cell_type": "code",
      "metadata": {
        "id": "s0M-75il5XGC"
      },
      "source": [
        "#iloc index기준으로 행만 뽑아내는 방식 loc 와 헷갈리지말것  \n",
        "\n",
        "df2 = pd.DataFrame([df.iloc[0], df.iloc[1], df.iloc[4]], columns=['weight', 'length', 'label'])\n",
        "df3 = pd.DataFrame([df.iloc[14]], columns=['weight', 'length', 'label'])"
      ],
      "execution_count": 15,
      "outputs": []
    },
    {
      "cell_type": "code",
      "metadata": {
        "colab": {
          "base_uri": "https://localhost:8080/",
          "height": 143
        },
        "id": "PPRmzbCx5j91",
        "outputId": "9dc604fd-eaab-47eb-b321-1fc3fac7c2fc"
      },
      "source": [
        "df2"
      ],
      "execution_count": 16,
      "outputs": [
        {
          "output_type": "execute_result",
          "data": {
            "text/html": [
              "<div>\n",
              "<style scoped>\n",
              "    .dataframe tbody tr th:only-of-type {\n",
              "        vertical-align: middle;\n",
              "    }\n",
              "\n",
              "    .dataframe tbody tr th {\n",
              "        vertical-align: top;\n",
              "    }\n",
              "\n",
              "    .dataframe thead th {\n",
              "        text-align: right;\n",
              "    }\n",
              "</style>\n",
              "<table border=\"1\" class=\"dataframe\">\n",
              "  <thead>\n",
              "    <tr style=\"text-align: right;\">\n",
              "      <th></th>\n",
              "      <th>weight</th>\n",
              "      <th>length</th>\n",
              "      <th>label</th>\n",
              "    </tr>\n",
              "  </thead>\n",
              "  <tbody>\n",
              "    <tr>\n",
              "      <th>0</th>\n",
              "      <td>6.6</td>\n",
              "      <td>6.2</td>\n",
              "      <td>1.0</td>\n",
              "    </tr>\n",
              "    <tr>\n",
              "      <th>1</th>\n",
              "      <td>9.7</td>\n",
              "      <td>9.9</td>\n",
              "      <td>2.0</td>\n",
              "    </tr>\n",
              "    <tr>\n",
              "      <th>4</th>\n",
              "      <td>1.3</td>\n",
              "      <td>2.7</td>\n",
              "      <td>0.0</td>\n",
              "    </tr>\n",
              "  </tbody>\n",
              "</table>\n",
              "</div>"
            ],
            "text/plain": [
              "   weight  length  label\n",
              "0     6.6     6.2    1.0\n",
              "1     9.7     9.9    2.0\n",
              "4     1.3     2.7    0.0"
            ]
          },
          "metadata": {
            "tags": []
          },
          "execution_count": 16
        }
      ]
    },
    {
      "cell_type": "code",
      "metadata": {
        "colab": {
          "base_uri": "https://localhost:8080/",
          "height": 81
        },
        "id": "lOWAaHw15tNd",
        "outputId": "a480b64c-2469-47e4-9203-9fa03908d103"
      },
      "source": [
        "df3"
      ],
      "execution_count": 17,
      "outputs": [
        {
          "output_type": "execute_result",
          "data": {
            "text/html": [
              "<div>\n",
              "<style scoped>\n",
              "    .dataframe tbody tr th:only-of-type {\n",
              "        vertical-align: middle;\n",
              "    }\n",
              "\n",
              "    .dataframe tbody tr th {\n",
              "        vertical-align: top;\n",
              "    }\n",
              "\n",
              "    .dataframe thead th {\n",
              "        text-align: right;\n",
              "    }\n",
              "</style>\n",
              "<table border=\"1\" class=\"dataframe\">\n",
              "  <thead>\n",
              "    <tr style=\"text-align: right;\">\n",
              "      <th></th>\n",
              "      <th>weight</th>\n",
              "      <th>length</th>\n",
              "      <th>label</th>\n",
              "    </tr>\n",
              "  </thead>\n",
              "  <tbody>\n",
              "    <tr>\n",
              "      <th>14</th>\n",
              "      <td>1.3</td>\n",
              "      <td>1.3</td>\n",
              "      <td>0.0</td>\n",
              "    </tr>\n",
              "  </tbody>\n",
              "</table>\n",
              "</div>"
            ],
            "text/plain": [
              "    weight  length  label\n",
              "14     1.3     1.3    0.0"
            ]
          },
          "metadata": {
            "tags": []
          },
          "execution_count": 17
        }
      ]
    },
    {
      "cell_type": "code",
      "metadata": {
        "colab": {
          "base_uri": "https://localhost:8080/",
          "height": 297
        },
        "id": "0e1LeWM26CWo",
        "outputId": "abbc60da-189a-43a4-ffa0-ac3571dad99a"
      },
      "source": [
        "ax = df2[df2['label'] == 0].plot.scatter(x='weight', y='length', c='blue', label='young')\n",
        "ax = df2[df2['label'] == 1].plot.scatter(x='weight', y='length', c='orange', label='mid', ax=ax)\n",
        "ax = df2[df2['label'] == 2].plot.scatter(x='weight', y='length', c='red', label='adult', ax=ax)\n",
        "ax = df3.plot.scatter(x='weight', y='length', c='gray', label='?', ax=ax)\n",
        "ax"
      ],
      "execution_count": 20,
      "outputs": [
        {
          "output_type": "execute_result",
          "data": {
            "text/plain": [
              "<matplotlib.axes._subplots.AxesSubplot at 0x7f7ae4705bd0>"
            ]
          },
          "metadata": {
            "tags": []
          },
          "execution_count": 20
        },
        {
          "output_type": "display_data",
          "data": {
            "image/png": "[encoded data removed]",
            "text/plain": [
              "<Figure size 432x288 with 1 Axes>"
            ]
          },
          "metadata": {
            "tags": [],
            "needs_background": "light"
          }
        }
      ]
    },
    {
      "cell_type": "markdown",
      "metadata": {
        "id": "cNs8engs6oEm"
      },
      "source": [
        "# 유클리드 거리 계산 \n",
        "\n"
      ]
    },
    {
      "cell_type": "code",
      "metadata": {
        "id": "1BEQHouG7CTw"
      },
      "source": [
        "def euclidean_distance(x, y):\n",
        "    return np.sqrt(np.sum((x-y) ** 2)) "
      ],
      "execution_count": 21,
      "outputs": []
    },
    {
      "cell_type": "code",
      "metadata": {
        "colab": {
          "base_uri": "https://localhost:8080/"
        },
        "id": "BEiD6uq87v4w",
        "outputId": "d985023e-9f0e-4bf9-a692-37afaf1485b6"
      },
      "source": [
        "#X에서 label 제외하고  0,1,4,14 인덱스에있는 값 추출 \n",
        "\n",
        "x0 = X[0][:-1]\n",
        "x1 = X[1][:-1]\n",
        "x4 = X[4][:-1]\n",
        "x14 = X[14][:-1]\n",
        "print(\"x0:\",x0,\"\\n x1:\",x1,\"\\n x4:\",x4,\"\\n x14:\",x14)\n",
        "\n",
        "print(\" x14 and x0:\", euclidean_distance(x14, x0), \"\\n\",\n",
        "      \"x14 and x1:\", euclidean_distance(x14, x1), \"\\n\",\n",
        "      \"x14 and x4:\", euclidean_distance(x14, x4))"
      ],
      "execution_count": 28,
      "outputs": [
        {
          "output_type": "stream",
          "text": [
            "x0: [6.6 6.2] \n",
            " x1: [9.7 9.9] \n",
            " x4: [1.3 2.7] \n",
            " x14: [1.3 1.3]\n",
            " x14 and x0: 7.218032973047436 \n",
            " x14 and x1: 12.021647141718974 \n",
            " x14 and x4: 1.4000000000000001\n"
          ],
          "name": "stdout"
        }
      ]
    },
    {
      "cell_type": "markdown",
      "metadata": {
        "id": "MPI2HvF6-TPV"
      },
      "source": [
        "직관적으로 x14와x4가 거리가 가장 가까우므로 young class로 추측이가능하다 \n",
        "\n",
        "그래프를 보았을때 우리가 직관적으로 생각한거와 큰 차이가 없다고 볼수있음"
      ]
    },
    {
      "cell_type": "markdown",
      "metadata": {
        "id": "nMy3fd1g9V6t"
      },
      "source": [
        "# 코사인 유사도 적용 \n",
        "\n",
        "$${x*y \\over \\sqrt{x*x}  \\sqrt{y*y}}$$\n",
        "\n",
        "위 식을 코드로 구현 "
      ]
    },
    {
      "cell_type": "code",
      "metadata": {
        "colab": {
          "base_uri": "https://localhost:8080/"
        },
        "id": "mcpQZtBG8btK",
        "outputId": "8f8dd77c-8591-4356-c9cb-ce5c1b4b464e"
      },
      "source": [
        "def cosine_similarity(x, y):\n",
        "    return np.dot(x, y) / (np.sqrt(np.dot(x, x)) * np.sqrt(np.dot(y, y)))\n",
        "\n",
        "print(\" x14 and x0:\", cosine_similarity(x14, x0), \"\\n\",\n",
        "      \"x14 and x1:\", cosine_similarity(x14, x1), \"\\n\",\n",
        "      \"x14 and x4:\", cosine_similarity(x14, x4))"
      ],
      "execution_count": 30,
      "outputs": [
        {
          "output_type": "stream",
          "text": [
            " x14 and x0: 0.9995120760870786 \n",
            " x14 and x1: 0.9999479424242859 \n",
            " x14 and x4: 0.9438583563660174\n"
          ],
          "name": "stdout"
        }
      ]
    },
    {
      "cell_type": "markdown",
      "metadata": {
        "id": "6HLufvyX--ME"
      },
      "source": [
        "위 결과  14와 1이 가깝게 나옴 유클리드 거리와는 다른 결과가 나타남 \n",
        "\n",
        "그 이유는 유킬리드 거리는 줄자로 거리를 표현하는거면 코사인 유사도는  무게나 크기를 전혀 고려안하고 벡터  사이의 각도만으로 척정하는것과 사함 \n",
        "\n",
        "즉 14번과 4번은줄자로 쟀을때 거리는 가깝지만 각도로 잴땐 가장 낮은 값이 된다\n",
        "\n",
        "따라서 코사인 유사도는 길이를 정규화해 비교하는 것과 유사하다고 할 수 있으며 이 때문에 텍스트 데이터를 처리하는 메트릭으로 주로 사용된다. 주로 데이터 마이닝이나 정보 검색information retrieval에서 즐겨 사용된다."
      ]
    },
    {
      "cell_type": "code",
      "metadata": {
        "colab": {
          "base_uri": "https://localhost:8080/"
        },
        "id": "DO-LGi5sAxfx",
        "outputId": "f9672814-24c6-44a5-e20c-2dee547a09c3"
      },
      "source": [
        "pip install wikipedia"
      ],
      "execution_count": 36,
      "outputs": [
        {
          "output_type": "stream",
          "text": [
            "Collecting wikipedia\n",
            "  Downloading wikipedia-1.4.0.tar.gz (27 kB)\n",
            "Requirement already satisfied: beautifulsoup4 in /usr/local/lib/python3.7/dist-packages (from wikipedia) (4.6.3)\n",
            "Requirement already satisfied: requests<3.0.0,>=2.0.0 in /usr/local/lib/python3.7/dist-packages (from wikipedia) (2.23.0)\n",
            "Requirement already satisfied: certifi>=2017.4.17 in /usr/local/lib/python3.7/dist-packages (from requests<3.0.0,>=2.0.0->wikipedia) (2021.5.30)\n",
            "Requirement already satisfied: chardet<4,>=3.0.2 in /usr/local/lib/python3.7/dist-packages (from requests<3.0.0,>=2.0.0->wikipedia) (3.0.4)\n",
            "Requirement already satisfied: idna<3,>=2.5 in /usr/local/lib/python3.7/dist-packages (from requests<3.0.0,>=2.0.0->wikipedia) (2.10)\n",
            "Requirement already satisfied: urllib3!=1.25.0,!=1.25.1,<1.26,>=1.21.1 in /usr/local/lib/python3.7/dist-packages (from requests<3.0.0,>=2.0.0->wikipedia) (1.24.3)\n",
            "Building wheels for collected packages: wikipedia\n",
            "  Building wheel for wikipedia (setup.py) ... \u001b[?25l\u001b[?25hdone\n",
            "  Created wheel for wikipedia: filename=wikipedia-1.4.0-py3-none-any.whl size=11696 sha256=74504975f718248790b9e7a5781dc5ca3e4f49a21872d97c912c6bbee52f2d5d\n",
            "  Stored in directory: /root/.cache/pip/wheels/15/93/6d/5b2c68b8a64c7a7a04947b4ed6d89fb557dcc6bc27d1d7f3ba\n",
            "Successfully built wikipedia\n",
            "Installing collected packages: wikipedia\n",
            "Successfully installed wikipedia-1.4.0\n"
          ],
          "name": "stdout"
        }
      ]
    },
    {
      "cell_type": "code",
      "metadata": {
        "colab": {
          "base_uri": "https://localhost:8080/",
          "height": 360
        },
        "id": "gtiwxW7DAfJ7",
        "outputId": "6b99ed30-e263-4ab2-8590-0a08472135f6"
      },
      "source": [
        "import wikipedia\n",
        "\n",
        "q1 = wikipedia.page('MachineLearning')\n",
        "q2 = wikipedia.page('Artifical Intelligence')\n",
        "q3 = wikipedia.page('Soccer')\n",
        "q4 = wikipedia.page('Tennis')"
      ],
      "execution_count": 52,
      "outputs": [
        {
          "output_type": "error",
          "ename": "PageError",
          "evalue": "ignored",
          "traceback": [
            "\u001b[0;31m---------------------------------------------------------------------------\u001b[0m",
            "\u001b[0;31mPageError\u001b[0m                                 Traceback (most recent call last)",
            "\u001b[0;32m<ipython-input-52-2573e49d8ad9>\u001b[0m in \u001b[0;36m<module>\u001b[0;34m()\u001b[0m\n\u001b[1;32m      4\u001b[0m \u001b[0mq2\u001b[0m \u001b[0;34m=\u001b[0m \u001b[0mwikipedia\u001b[0m\u001b[0;34m.\u001b[0m\u001b[0mpage\u001b[0m\u001b[0;34m(\u001b[0m\u001b[0;34m'Artifical Intelligence'\u001b[0m\u001b[0;34m)\u001b[0m\u001b[0;34m\u001b[0m\u001b[0;34m\u001b[0m\u001b[0m\n\u001b[1;32m      5\u001b[0m \u001b[0mq3\u001b[0m \u001b[0;34m=\u001b[0m \u001b[0mwikipedia\u001b[0m\u001b[0;34m.\u001b[0m\u001b[0mpage\u001b[0m\u001b[0;34m(\u001b[0m\u001b[0;34m'Soccer'\u001b[0m\u001b[0;34m)\u001b[0m\u001b[0;34m\u001b[0m\u001b[0;34m\u001b[0m\u001b[0m\n\u001b[0;32m----> 6\u001b[0;31m \u001b[0mq4\u001b[0m \u001b[0;34m=\u001b[0m \u001b[0mwikipedia\u001b[0m\u001b[0;34m.\u001b[0m\u001b[0mpage\u001b[0m\u001b[0;34m(\u001b[0m\u001b[0;34m'tennis'\u001b[0m\u001b[0;34m)\u001b[0m\u001b[0;34m\u001b[0m\u001b[0;34m\u001b[0m\u001b[0m\n\u001b[0m",
            "\u001b[0;32m/usr/local/lib/python3.7/dist-packages/wikipedia/wikipedia.py\u001b[0m in \u001b[0;36mpage\u001b[0;34m(title, pageid, auto_suggest, redirect, preload)\u001b[0m\n\u001b[1;32m    274\u001b[0m         \u001b[0;31m# if there is no suggestion or search results, the page doesn't exist\u001b[0m\u001b[0;34m\u001b[0m\u001b[0;34m\u001b[0m\u001b[0;34m\u001b[0m\u001b[0m\n\u001b[1;32m    275\u001b[0m         \u001b[0;32mraise\u001b[0m \u001b[0mPageError\u001b[0m\u001b[0;34m(\u001b[0m\u001b[0mtitle\u001b[0m\u001b[0;34m)\u001b[0m\u001b[0;34m\u001b[0m\u001b[0;34m\u001b[0m\u001b[0m\n\u001b[0;32m--> 276\u001b[0;31m     \u001b[0;32mreturn\u001b[0m \u001b[0mWikipediaPage\u001b[0m\u001b[0;34m(\u001b[0m\u001b[0mtitle\u001b[0m\u001b[0;34m,\u001b[0m \u001b[0mredirect\u001b[0m\u001b[0;34m=\u001b[0m\u001b[0mredirect\u001b[0m\u001b[0;34m,\u001b[0m \u001b[0mpreload\u001b[0m\u001b[0;34m=\u001b[0m\u001b[0mpreload\u001b[0m\u001b[0;34m)\u001b[0m\u001b[0;34m\u001b[0m\u001b[0;34m\u001b[0m\u001b[0m\n\u001b[0m\u001b[1;32m    277\u001b[0m   \u001b[0;32melif\u001b[0m \u001b[0mpageid\u001b[0m \u001b[0;32mis\u001b[0m \u001b[0;32mnot\u001b[0m \u001b[0;32mNone\u001b[0m\u001b[0;34m:\u001b[0m\u001b[0;34m\u001b[0m\u001b[0;34m\u001b[0m\u001b[0m\n\u001b[1;32m    278\u001b[0m     \u001b[0;32mreturn\u001b[0m \u001b[0mWikipediaPage\u001b[0m\u001b[0;34m(\u001b[0m\u001b[0mpageid\u001b[0m\u001b[0;34m=\u001b[0m\u001b[0mpageid\u001b[0m\u001b[0;34m,\u001b[0m \u001b[0mpreload\u001b[0m\u001b[0;34m=\u001b[0m\u001b[0mpreload\u001b[0m\u001b[0;34m)\u001b[0m\u001b[0;34m\u001b[0m\u001b[0;34m\u001b[0m\u001b[0m\n",
            "\u001b[0;32m/usr/local/lib/python3.7/dist-packages/wikipedia/wikipedia.py\u001b[0m in \u001b[0;36m__init__\u001b[0;34m(self, title, pageid, redirect, preload, original_title)\u001b[0m\n\u001b[1;32m    297\u001b[0m       \u001b[0;32mraise\u001b[0m \u001b[0mValueError\u001b[0m\u001b[0;34m(\u001b[0m\u001b[0;34m\"Either a title or a pageid must be specified\"\u001b[0m\u001b[0;34m)\u001b[0m\u001b[0;34m\u001b[0m\u001b[0;34m\u001b[0m\u001b[0m\n\u001b[1;32m    298\u001b[0m \u001b[0;34m\u001b[0m\u001b[0m\n\u001b[0;32m--> 299\u001b[0;31m     \u001b[0mself\u001b[0m\u001b[0;34m.\u001b[0m\u001b[0m__load\u001b[0m\u001b[0;34m(\u001b[0m\u001b[0mredirect\u001b[0m\u001b[0;34m=\u001b[0m\u001b[0mredirect\u001b[0m\u001b[0;34m,\u001b[0m \u001b[0mpreload\u001b[0m\u001b[0;34m=\u001b[0m\u001b[0mpreload\u001b[0m\u001b[0;34m)\u001b[0m\u001b[0;34m\u001b[0m\u001b[0;34m\u001b[0m\u001b[0m\n\u001b[0m\u001b[1;32m    300\u001b[0m \u001b[0;34m\u001b[0m\u001b[0m\n\u001b[1;32m    301\u001b[0m     \u001b[0;32mif\u001b[0m \u001b[0mpreload\u001b[0m\u001b[0;34m:\u001b[0m\u001b[0;34m\u001b[0m\u001b[0;34m\u001b[0m\u001b[0m\n",
            "\u001b[0;32m/usr/local/lib/python3.7/dist-packages/wikipedia/wikipedia.py\u001b[0m in \u001b[0;36m__load\u001b[0;34m(self, redirect, preload)\u001b[0m\n\u001b[1;32m    343\u001b[0m     \u001b[0;32mif\u001b[0m \u001b[0;34m'missing'\u001b[0m \u001b[0;32min\u001b[0m \u001b[0mpage\u001b[0m\u001b[0;34m:\u001b[0m\u001b[0;34m\u001b[0m\u001b[0;34m\u001b[0m\u001b[0m\n\u001b[1;32m    344\u001b[0m       \u001b[0;32mif\u001b[0m \u001b[0mhasattr\u001b[0m\u001b[0;34m(\u001b[0m\u001b[0mself\u001b[0m\u001b[0;34m,\u001b[0m \u001b[0;34m'title'\u001b[0m\u001b[0;34m)\u001b[0m\u001b[0;34m:\u001b[0m\u001b[0;34m\u001b[0m\u001b[0;34m\u001b[0m\u001b[0m\n\u001b[0;32m--> 345\u001b[0;31m         \u001b[0;32mraise\u001b[0m \u001b[0mPageError\u001b[0m\u001b[0;34m(\u001b[0m\u001b[0mself\u001b[0m\u001b[0;34m.\u001b[0m\u001b[0mtitle\u001b[0m\u001b[0;34m)\u001b[0m\u001b[0;34m\u001b[0m\u001b[0;34m\u001b[0m\u001b[0m\n\u001b[0m\u001b[1;32m    346\u001b[0m       \u001b[0;32melse\u001b[0m\u001b[0;34m:\u001b[0m\u001b[0;34m\u001b[0m\u001b[0;34m\u001b[0m\u001b[0m\n\u001b[1;32m    347\u001b[0m         \u001b[0;32mraise\u001b[0m \u001b[0mPageError\u001b[0m\u001b[0;34m(\u001b[0m\u001b[0mpageid\u001b[0m\u001b[0;34m=\u001b[0m\u001b[0mself\u001b[0m\u001b[0;34m.\u001b[0m\u001b[0mpageid\u001b[0m\u001b[0;34m)\u001b[0m\u001b[0;34m\u001b[0m\u001b[0;34m\u001b[0m\u001b[0m\n",
            "\u001b[0;31mPageError\u001b[0m: Page id \"tenic\" does not match any pages. Try another id!"
          ]
        }
      ]
    },
    {
      "cell_type": "code",
      "metadata": {
        "colab": {
          "base_uri": "https://localhost:8080/",
          "height": 35
        },
        "id": "AqAmVik7DEw_",
        "outputId": "ce614295-b271-48a2-db34-f5f0c8ff7131"
      },
      "source": [
        "q1.content[:100]"
      ],
      "execution_count": 51,
      "outputs": [
        {
          "output_type": "execute_result",
          "data": {
            "application/vnd.google.colaboratory.intrinsic+json": {
              "type": "string"
            },
            "text/plain": [
              "'Machine learning (ML) is the study of computer algorithms that improve automatically through experie'"
            ]
          },
          "metadata": {
            "tags": []
          },
          "execution_count": 51
        }
      ]
    },
    {
      "cell_type": "code",
      "metadata": {
        "colab": {
          "base_uri": "https://localhost:8080/"
        },
        "id": "SRVInO2kAnTZ",
        "outputId": "ae4104fc-3ab9-41c1-ef73-02b6ffb7d0f7"
      },
      "source": [
        "q1.content.split()[:10]"
      ],
      "execution_count": 53,
      "outputs": [
        {
          "output_type": "execute_result",
          "data": {
            "text/plain": [
              "['Machine',\n",
              " 'learning',\n",
              " '(ML)',\n",
              " 'is',\n",
              " 'the',\n",
              " 'study',\n",
              " 'of',\n",
              " 'computer',\n",
              " 'algorithms',\n",
              " 'that']"
            ]
          },
          "metadata": {
            "tags": []
          },
          "execution_count": 53
        }
      ]
    },
    {
      "cell_type": "code",
      "metadata": {
        "colab": {
          "base_uri": "https://localhost:8080/"
        },
        "id": "MZEpfzRvDrWs",
        "outputId": "0b39e7f2-a0d7-4426-9889-6016c50472ac"
      },
      "source": [
        "print(\"ML \\t\", len(q1.content.split()), \"\\n\"\n",
        "      \"AI \\t\", len(q2.content.split()), \"\\n\"\n",
        "      \"soccer \\t\", len(q3.content.split()))"
      ],
      "execution_count": 54,
      "outputs": [
        {
          "output_type": "stream",
          "text": [
            "ML \t 6918 \n",
            "AI \t 7886 \n",
            "soccer \t 6766\n"
          ],
          "name": "stdout"
        }
      ]
    },
    {
      "cell_type": "code",
      "metadata": {
        "id": "aTcvo7yCEA5v"
      },
      "source": [
        "from sklearn.feature_extraction.text import CountVectorizer\n",
        "\n",
        "cv = CountVectorizer()\n",
        "X = np.array(cv.fit_transform([q1.content, q2.content, q3.content]).todense())"
      ],
      "execution_count": 55,
      "outputs": []
    },
    {
      "cell_type": "code",
      "metadata": {
        "colab": {
          "base_uri": "https://localhost:8080/"
        },
        "id": "kT6HvuWvEDK2",
        "outputId": "669c9578-fd21-4991-d0a1-fd2b78650351"
      },
      "source": [
        "X"
      ],
      "execution_count": 57,
      "outputs": [
        {
          "output_type": "execute_result",
          "data": {
            "text/plain": [
              "array([[1, 0, 2, ..., 0, 0, 0],\n",
              "       [0, 0, 1, ..., 0, 2, 0],\n",
              "       [2, 1, 0, ..., 2, 0, 1]])"
            ]
          },
          "metadata": {
            "tags": []
          },
          "execution_count": 57
        }
      ]
    },
    {
      "cell_type": "code",
      "metadata": {
        "colab": {
          "base_uri": "https://localhost:8080/"
        },
        "id": "kEHbnDANEh1m",
        "outputId": "77116ebd-1e3c-4fc2-83d1-34959f927d09"
      },
      "source": [
        "print(\"ML - AI \\t\", euclidean_distance(X[0], X[1]), \"\\n\"\n",
        "      \"ML - soccer \\t\", euclidean_distance(X[0], X[2]))"
      ],
      "execution_count": 58,
      "outputs": [
        {
          "output_type": "stream",
          "text": [
            "ML - AI \t 332.9204109092742 \n",
            "ML - soccer \t 465.4062741304634\n"
          ],
          "name": "stdout"
        }
      ]
    },
    {
      "cell_type": "code",
      "metadata": {
        "colab": {
          "base_uri": "https://localhost:8080/"
        },
        "id": "HENH_gqXEpCK",
        "outputId": "53fa8d63-387e-4c3f-e83c-87d4dafd6cc4"
      },
      "source": [
        "print(\"ML - AI \\t\", cosine_similarity(X[0], X[1]), \"\\n\"\n",
        "      \"ML - soccer \\t\", cosine_similarity(X[0], X[2]))"
      ],
      "execution_count": 59,
      "outputs": [
        {
          "output_type": "stream",
          "text": [
            "ML - AI \t 0.875860738222465 \n",
            "ML - soccer \t 0.791413275469877\n"
          ],
          "name": "stdout"
        }
      ]
    }
  ]
}